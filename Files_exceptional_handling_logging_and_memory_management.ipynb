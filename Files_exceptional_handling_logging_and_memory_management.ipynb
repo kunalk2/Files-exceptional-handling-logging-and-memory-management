{
  "nbformat": 4,
  "nbformat_minor": 0,
  "metadata": {
    "colab": {
      "provenance": []
    },
    "kernelspec": {
      "name": "python3",
      "display_name": "Python 3"
    },
    "language_info": {
      "name": "python"
    }
  },
  "cells": [
    {
      "cell_type": "markdown",
      "source": [
        "***Q1. What is the difference between interpreted and compiled languages?***\n",
        "\n",
        "Ans. Compiled languages translate the entire program into machine code before execution, while interpreted languages translate the code line by line during execution. Python ,Java Script are few examples tha use the interpreted launguage and c++ , Java are the examples of compiled language.\n",
        "\n",
        "---\n",
        "***Q2.What is exception handling in Python?***\n",
        "\n",
        "Ans. Exception handling in Python is a mechanism to manage runtime errors, known as exceptions, that can disrupt the normal flow of a program. It allows the program to continue execution even if an error occurs. Python uses try, except, else, and finally blocks to handle exceptions.\n",
        "* try block: Encloses the code that might raise an exception.\n",
        "* except block: Specifies how to handle a particular exception. It executes only if a matching exception occurs in the try block.\n",
        "* else block: Executes if no exception occurs in the try block.\n",
        "* finally block: Always executes, regardless of whether an exception occurred or not. It is often used for cleanup actions.\n",
        "\n",
        "---\n",
        "***Q3. What is the purpose of the finally block in exception handling?***\n",
        "\n",
        "Ans. The purpose of the finally block in exception handling is to ensure that a specific block of code is always executed, regardless of whether an exception occurs in the preceding try block, or if any exception handling catch blocks are triggered. It's crucial for guaranteeing that critical cleanup actions, such as closing files or releasing resources, are performed consistently, even in the face of unexpected errors.\n",
        "\n",
        "---\n",
        "***Q4. What is logging in Python?***\n",
        "\n",
        "Ans. Logging in Python refers to the process of tracking events that occur during the execution of a program. It's a way to record information about the program's behavior, including errors, warnings, and informational messages. The Python logging module provides a flexible framework for generating and managing log messages. Instead of using print() statements for debugging, logging offers a more structured and configurable approach.\n",
        "\n",
        "---\n",
        "***Q5. What is the significance of the __ del __ method in Python?***\n",
        "\n",
        "Ans. The __ del __ method in Python, also known as a destructor, defines actions to be performed when an object is garbage collected. It's called automatically when all references to an object have been deleted, signifying that the object is no longer in use and its memory can be reclaimed.\n",
        "\n",
        "---\n",
        "***Q6. What is the difference between import and from ... import in Python?***\n",
        "\n",
        "Ans. The import statement and the from ... import statement in Python serve different purposes in how they bring external code into your current scope.\n",
        "* import module_name:\n",
        "This statement imports the entire module. To access objects (functions, classes, variables) from the module, you need to use the module name as a prefix, like module_name.object_name.\n",
        "* from module_name import object_name:\n",
        "This statement imports specific objects directly into your current namespace. You can then use these objects without the module name prefix.\n",
        "\n",
        "---\n",
        "***Q7. How can you handle multiple exceptions in Python?***\n",
        "\n",
        "Ans. In Python, multiple exceptions can be handled using several approaches:\n",
        "* Using a tuple of exception types: This approach involves grouping multiple exception types within a single except block. If any of the listed exceptions occur, the code within that block will be executed.\n",
        "* Using multiple except blocks: This involves creating separate except blocks for each exception type that needs to be handled differently.\n",
        "* Using a parent exception class: This approach involves catching a broader class of exceptions, such as Exception, which encompasses many built-in exceptions.\n",
        "* Using except* for exception groups (Python 3.11+): This approach is used to handle ExceptionGroup, introduced in Python 3.11, allowing for handling multiple exceptions raised together.\n",
        "\n",
        "---\n",
        "***Q8. What is the purpose of the with statement when handling files in Python?***\n",
        "\n",
        "Ans. The with statement in Python is used for resource management, particularly when working with files. It ensures that resources are properly handled, especially in cases where exceptions might occur. When dealing with files, the primary purpose of the with statement is to automatically manage the opening and closing of the file.\n",
        "When a file is opened using the with statement, it guarantees that the file will be closed automatically after the block of code within the with statement is executed, regardless of whether an exception is raised or not. This is crucial because forgetting to close a file can lead to resource leaks or data corruption.\n",
        "\n",
        "---\n",
        "***Q9. What is the difference between multithreading and multiprocessing?***\n",
        "\n",
        "Ans. Multithreading and multiprocessing are both techniques to run multiple tasks concurrently, but they differ in how they achieve this. Multithreading creates multiple threads within a single process, allowing for concurrent execution within that process, while multiprocessing creates multiple processes, each with its own resources, enabling parallel execution across multiple processors.\n",
        "Here's a more detailed breakdown:\n",
        "1. Multithreading:\n",
        "* Creates multiple threads within a single process.\n",
        "* Threads within a process share the same memory space and resources.\n",
        "* Can be more efficient for tasks that involve a lot of inter-process communication because of the shared memory.\n",
        "* May be limited by the \"Global Interpreter Lock\" (GIL) in certain languages, preventing true parallelism.\n",
        "2. Multiprocessing:\n",
        "* Creates multiple processes, each with its own memory space and resources.\n",
        "* Processes can run independently and in parallel on different processors.\n",
        "* More memory-intensive due to the creation of separate processes.\n",
        "* Better suited for CPU-bound tasks that can be divided into independent subtasks.\n",
        "\n",
        "---\n",
        "***Q10. What are the advantages of using logging in a program?***\n",
        "\n",
        "Ans. Logging offers significant advantages in software development, including improved debugging, easier troubleshooting, enhanced system observability, and better communication between developers and administrators. It provides a record of events, helping identify issues, understand system behavior, and optimize performance.\n",
        "\n",
        "---\n",
        "***Q11. What is memory management in Python?***\n",
        "\n",
        "Ans. Memory management in Python is the process of allocating and deallocating memory for objects. Python uses a private heap to store objects. The management of this heap is handled automatically by the Python memory manager, which consists of several components working together.\n",
        "Python employs a combination of reference counting and garbage collection to manage memory. Reference counting keeps track of how many references there are to an object. When the reference count drops to zero, the memory occupied by the object is reclaimed. Garbage collection periodically identifies and reclaims memory occupied by objects that are no longer accessible, even if they still have references.\n",
        "The Python memory manager handles different aspects of dynamic storage management, including sharing, segmentation, preallocation, and caching. It interacts with the operating system's memory manager to ensure sufficient space in the private heap. Object-specific allocators manage memory for different object types like integers, strings, tuples, and dictionaries, each with its own storage requirements and optimization strategies.\n",
        "\n",
        "---\n",
        "***Q12. What are the basic steps involved in exception handling in Python?***\n",
        "\n",
        "Ans.Exception handling in Python involves anticipating, detecting, and gracefully managing errors that may occur during the execution of a program. It ensures that the program doesn't crash and can continue running or terminate in a controlled manner. The process primarily uses try, except, else, and finally blocks.\n",
        "1. Try Block: Enclose the code that might raise an exception within a try block. This signals to Python that this section of code needs monitoring for potential errors.\n",
        "2. Except Block: If an exception occurs within the try block, the program immediately jumps to the except block. This block specifies how to handle the exception. You can catch specific exception types or use a general except to catch all exceptions.\n",
        "3. Else Block : The else block executes only if no exception is raised in the try block. It's used for code that depends on the successful execution of the try block.\n",
        "4. Finally Block : The finally block always executes, regardless of whether an exception was raised or caught. It's typically used for cleanup actions, like closing files or releasing resources.\n",
        "\n",
        "---\n",
        "***Q13. Why is memory management important in Python?***\n",
        "\n",
        "Ans. Memory management is important in Python because it ensures efficient and effective utilization of computer memory, preventing memory leaks and optimizing program performance. Python's automatic memory management handles memory allocation and deallocation, relieving developers from manual memory management tasks, which can be error-prone.\n",
        "Python's memory management involves:\n",
        "1. Allocation: When an object is created, Python allocates memory to store it.\n",
        "2. Deallocation: When an object is no longer in use, Python reclaims the memory it occupied, making it available for other objects.\n",
        "\n",
        "Python uses two primary mechanisms for memory management:\n",
        "Reference Counting:\n",
        "Tracks the number of references to an object. When the count drops to zero, the memory is deallocated immediately.\n",
        "Garbage Collection:\n",
        "Detects and reclaims memory occupied by objects that are no longer accessible but still have a non-zero reference count .\n",
        "* Effective memory management in Python is crucial for: Preventing memory leaks: Memory leaks occur when memory is allocated but not deallocated, leading to gradual memory depletion and potential program crashes.\n",
        "* Optimizing performance: Efficient memory management ensures that memory is used optimally, reducing the overhead associated with memory allocation and deallocation, leading to faster program execution.\n",
        "* Ensuring stability: Proper memory management prevents memory-related errors, such as segmentation faults, which can cause program crashes.\n",
        "\n",
        "---\n",
        "***Q14. What is the role of try and except in exception handling?***\n",
        "\n",
        "Ans. In exception handling, try and except blocks work together to manage potential errors or exceptions that can occur during program execution. The try block contains the code that might potentially raise an exception, while the except block specifies the code that should be executed if an exception occurs within the try block. This allows the program to gracefully handle errors instead of crashing.\n",
        "\n",
        "* try block:\n",
        "This block contains the code that might potentially throw an exception. When the code within the try block is executed, the program first checks for errors. If no errors are found, the code within the try block is executed normally, and the except block is skipped.\n",
        "* except block:\n",
        "This block is executed only if an exception is raised within the preceding try block. It contains the code that specifies how to handle the exception. This could involve printing an error message, logging the error, or taking other corrective actions to prevent the program from crashing.\n",
        "\n",
        "---\n",
        "***Q15. How does Python's garbage collection system work?***\n",
        "\n",
        "Ans. Python uses a hybrid approach to garbage collection: reference counting and generational garbage collection. Reference counting efficiently handles most cases where an object's reference count reaches zero, indicating no more active references. However, reference cycles, where objects refer to each other, can prevent reference counts from dropping to zero, necessitating the generational garbage collector.\n",
        "\n",
        "1. Reference Counting:\n",
        "* Python tracks each object's reference count, incrementing it when a variable or data structure refers to it and decrementing it when the reference is removed.\n",
        "* When an object's reference count reaches zero, it's eligible for deallocation, freeing up memory.\n",
        "2. Generational Garbage Collection (Cyclic Garbage Collector):\n",
        "* This mechanism handles reference cycles, where two objects refer to each other, causing reference counts to remain non-zero.\n",
        "* It identifies and breaks these cycles, allowing Python to reclaim memory occupied by unreachable objects.\n",
        "* Python classifies objects into three generations (young, middle, old) based on how long they've survived collection cycles.\n",
        "* The garbage collector prioritizes collecting younger generations as they are more likely to contain objects no longer in use.\n",
        "3. Key Concepts: Reference: A link between a variable or data structure and an object in memory.\n",
        "* Reference Cycle: A situation where objects refer to each other, preventing the reference count of any of them from dropping to zero.\n",
        "* Mark-and-Sweep Algorithm: An algorithm used by the generational garbage collector to identify reachable objects and reclaim memory from unreachable ones.\n",
        "\n",
        "In essence, Python's garbage collection works by:\n",
        "1. Tracking references:\n",
        "Keeping track of how many variables/data structures are referring to each object.\n",
        "2. Deallocating when necessary:\n",
        "Removing objects with a reference count of zero.\n",
        "3. Handling cycles:\n",
        "Using the generational garbage collector to break reference cycles and reclaim memory from unreachable objects.\n",
        "4. Prioritizing younger generations:\n",
        "Collecting objects from younger generations more frequently as they are more likely to be garbage.\n",
        "\n",
        "---\n",
        "***Q16. What is the purpose of the else block in exception handling?***\n",
        "\n",
        "Ans. The else block in exception handling, often used in try...except...else structures, executes only when no exceptions are raised within the try block. It provides a way to execute code that's intended to run when the try block executes successfully, effectively separating normal execution from exception handling.\n",
        "\n",
        "---\n",
        "***Q17. What are the common logging levels in Python?***\n",
        "\n",
        "Ans. Python's logging module provides a standard way to record messages during the execution of a program. These messages are categorized by severity levels, which help developers filter and manage log output effectively. The common logging levels in Python, in ascending order of severity, are:\n",
        "1. DEBUG (10):\n",
        "Detailed information, typically used for diagnosing problems. It is useful during development and debugging phases to get granular insights into the program's state and behavior.\n",
        "2. INFO (20):\n",
        "General information that confirms the program is running as expected. It provides a high-level overview of the application's flow and important events.\n",
        "3. WARNING (30):\n",
        "Indicates that something unexpected happened or might happen in the future, but the program can still continue running. It is used to highlight potential issues that need attention.\n",
        "4. ERROR (40):\n",
        "Signifies a more serious problem that prevents the program from performing some function. It indicates that an operation failed, but the application can usually recover and continue.\n",
        "5. CRITICAL (50):\n",
        "Represents a severe error that may cause the program to terminate. It indicates a critical failure that prevents the application from continuing its normal operation.\n",
        "\n",
        "---\n",
        "***Q18. What is the difference between os.fork() and multiprocessing in Python?***\n",
        "\n",
        "Ans. The os.fork() system call and the multiprocessing module in Python both enable the creation of new processes, but they differ significantly in their approach, portability, and use cases.\n",
        "\n",
        "os.fork():\n",
        "* Creates a new process by duplicating the calling process.\n",
        "* The child process is an exact copy of the parent process, including memory space, open files, and execution point.\n",
        "* Available only on Unix-like systems.\n",
        "* It is a low-level system call, offering minimal overhead but requiring careful handling of shared resources.\n",
        "* Can be problematic in multi-threaded programs.\n",
        "\n",
        "---\n",
        "***Q19.  What is the importance of closing a file in Python?***\n",
        "\n",
        "Ans. Closing a file in Python is important for several reasons:\n",
        "* Resource Management:\n",
        "When a file is opened, the operating system allocates resources to manage it. Failing to close the file after use can lead to resource leaks, where these resources remain allocated even when they are no longer needed. Over time, this can degrade system performance and potentially lead to crashes, especially if many files are left open.\n",
        "* Data Integrity:\n",
        "When writing to a file, data is often buffered before being written to the disk. Closing the file ensures that all buffered data is flushed and written, preventing data loss or corruption. If a program terminates unexpectedly before a file is closed, the buffered data may not be written, resulting in incomplete or corrupted files.\n",
        "* File Access:\n",
        "While a file is open, it may be locked by the operating system, preventing other processes or programs from accessing it. Closing the file releases the lock, allowing other processes to access it. This is particularly important in concurrent or multi-threaded environments where multiple processes may need to access the same file.\n",
        "* Best Practices:\n",
        "Closing files is a fundamental aspect of proper file handling and good coding practice. It makes code more robust, maintainable, and easier to understand, as it clearly indicates when resources are being managed.\n",
        "\n",
        "---\n",
        "***Q20. What is the difference between file.read() and file.readline() in Python?***\n",
        "\n",
        "Ans. file.read() and file.readline() are both methods used to read data from a file in Python, but they differ in how much data they read at a time:\n",
        "\n",
        "* file.read(): This method reads the entire content of the file as a single string. If a size argument is provided (e.g., file.read(10)), it reads up to that many characters or bytes. If the size argument is omitted, it reads the entire file.\n",
        "* file.readline(): This method reads a single line from the file, including the newline character (\\n) at the end, and returns it as a string. If called repeatedly, it reads subsequent lines. When it reaches the end of the file, it returns an empty string.\n",
        "\n",
        "---\n",
        "***Q21. What is the logging module in Python used for?***\n",
        "\n",
        "Ans. The logging module in Python is used for recording events and debugging issues during application execution. It provides a flexible system for logging messages, including errors, warnings, and informational messages, to various output destinations like files or the console.\n",
        "\n",
        "Here is an explanation:\n",
        "* Event Tracking:\n",
        "Logging allows developers to track what happens while a program is running, including errors, warnings, and other notable events.\n",
        "* Debugging:\n",
        "It helps developers identify the root cause of issues by providing a detailed record of the application's execution.\n",
        "* Monitoring:\n",
        "Logging can be used to monitor the health and performance of an application over time.\n",
        "* Flexibility:\n",
        "The logging module offers a wide range of options for configuring log messages, including log levels, formatters, and handlers.\n",
        "* Output Destinations:\n",
        "Log messages can be directed to various output destinations, such as files, the console, or even other application\n",
        "\n",
        "---\n",
        "***Q22. What is the os module in Python used for in file handling?***\n",
        "\n",
        "Ans. The OS module in Python provides functions for interacting with the operating system. OS comes under Python’s standard utility modules. This module provides a portable way of using operating system-dependent functionality.\n",
        "\n",
        "The * os * and * os.path * modules include many functions to interact with the file system.\n",
        "\n",
        "**Python-OS-Module Functions**\n",
        "\n",
        "Here we will discuss some important functions of the Python os module :\n",
        "\n",
        "* Handling the Current Working Directory\n",
        "* Creating a Directory\n",
        "* Listing out Files and Directories with Python\n",
        "* Deleting Directory or Files using Python\n",
        "\n",
        "---\n",
        "***Q23. What are the challenges associated with memory management in Python?***\n",
        "\n",
        "Ans. Challenges associated with memory management in Python include:\n",
        "* High memory consumption:\n",
        "Python's objects carry extra metadata, leading to higher memory usage compared to languages like C or C++.\n",
        "* Garbage collection overhead:\n",
        "While automatic garbage collection simplifies development, it can introduce performance overhead and pauses, especially in real-time systems.\n",
        "* Memory leaks:\n",
        "Although Python has automatic garbage collection, memory leaks can still occur, particularly with circular references or when interacting with external resources.\n",
        "* Memory fragmentation:\n",
        "Dynamic allocation and deallocation can lead to memory fragmentation, reducing available contiguous memory.\n",
        "* Limited manual control:\n",
        "Python's automatic memory management offers less control compared to manual memory management in languages like C++, making it difficult to optimize for specific use cases.\n",
        "* Challenges with large datasets:\n",
        "Handling large datasets can lead to MemoryError if not managed efficiently. Techniques like chunking or using memory-efficient data structures become necessary.\n",
        "* Circular references:\n",
        "The reference counting mechanism may fail to detect and collect objects involved in circular references, potentially leading to memory leaks.\n",
        "* Multiprocessing overhead:\n",
        "Each process requires its own memory space and Python interpreter, which can be resource-intensive.\n",
        "* Memory bloat:\n",
        "Occurs when an app loads high amounts of data into memory but fails to deallocate it when no longer in use.\n",
        "\n",
        "---\n",
        "***Q24.  How do you raise an exception manually in Python?***\n",
        "\n",
        "Ans. To raise an exception manually in Python, the raise keyword is used, followed by the exception class or instance. This allows for explicit triggering of exceptions at specific points in the code.\n",
        "\n",
        "When raising an exception, it is possible to specify the exception type and include a custom error message for clarity.\n",
        "\n",
        "It is also possible to raise an exception instance directly.\n",
        "\n",
        "When an exception is raised, normal program flow is interrupted, and the interpreter searches for an appropriate exception handler (try-except block). If no handler is found, the program terminates, and the exception is printed to the console.\n",
        "\n",
        "---\n",
        "***Q25. Why is it important to use multithreading in certain applications?***\n",
        "\n",
        "Ans. Multithreading is important in applications that benefit from concurrent execution of tasks, improved responsiveness, and efficient resource utilization. By breaking down a program into smaller, independent threads, applications can perform multiple operations simultaneously, leading to faster execution, smoother user interfaces, and better utilization of CPU cores.\n",
        "\n",
        "1. Enhanced Performance:\n",
        "* Parallel Execution:\n",
        "Multithreading allows different parts of a program to run concurrently, especially on multi-core processors. This can significantly reduce the overall execution time, especially for tasks that can be divided into smaller, independent operations.\n",
        "* CPU Utilization:\n",
        "By allowing multiple threads to run, multithreading can keep the CPU busy, even when one thread is waiting for I/O or other resources. This improves overall CPU utilization and can lead to faster application performance.\n",
        "2. Improved Responsiveness:\n",
        "* User Interface:\n",
        "Multithreading allows the user interface to remain responsive even while the application is performing long-running tasks in the background. This prevents the UI from freezing and provides a better user experience.\n",
        "* Concurrency:\n",
        "Multithreading enables an application to handle multiple user requests or events concurrently, making it more responsive and efficient.\n",
        "3. Efficient Resource Utilization:\n",
        "* Context Switching:\n",
        "Switching between threads is generally faster than switching between separate processes. This is because threads within the same process share the same memory space and resources, reducing the overhead associated with context switching.\n",
        "* Resource Sharing:\n",
        "Threads within the same process can easily share data and resources, simplifying communication and coordination between different parts of the application.\n",
        "* Scalability:\n",
        "Multithreading allows applications to scale more easily by adding more threads to handle increased workloads.\n",
        "4. Other Benefits:\n",
        "* Simpler Program Structure:\n",
        "In some cases, multithreading can simplify the structure of a program by allowing different parts of the application to handle specific tasks in a more natural way.\n",
        "* Network Applications:\n",
        "Multithreading is crucial for applications like web servers, which need to handle multiple client requests simultaneously.\n",
        "* Scientific Computing:\n",
        "Multithreading can be used to parallelize computations, significantly speeding up complex simulations and calculations."
      ],
      "metadata": {
        "id": "tSwE18ZQD8Ob"
      }
    },
    {
      "cell_type": "code",
      "source": [
        "# Q1. How can you open a file for writing in Python and write a string to it?\n",
        "with open(\"example.txt\", \"w\") as file:\n",
        "    # This writes the string in the file\n",
        "    file.write(\"Hello, world!\")"
      ],
      "metadata": {
        "id": "3fXCcoUddj3D"
      },
      "execution_count": null,
      "outputs": []
    },
    {
      "cell_type": "code",
      "source": [
        "# Q2. Write a Python program to read the contents of a file and print each line.\n",
        "with open(\"sample.txt\", \"w\") as file:\n",
        "    file.write(\"First line\\n\")\n",
        "    file.write(\"Second line\\n\")\n",
        "    file.write(\"Third line\")\n",
        "\n",
        "# To read and print each line from the file\n",
        "print(\"Reading lines from the file:\")\n",
        "with open(\"sample.txt\", \"r\") as file:\n",
        "    for line in file:\n",
        "        print(line.strip())"
      ],
      "metadata": {
        "colab": {
          "base_uri": "https://localhost:8080/"
        },
        "id": "cBkEGrxOe166",
        "outputId": "3b342747-58ca-4506-ca17-908bf008bc03"
      },
      "execution_count": null,
      "outputs": [
        {
          "output_type": "stream",
          "name": "stdout",
          "text": [
            "Reading lines from the file:\n",
            "First line\n",
            "Second line\n",
            "Third line\n"
          ]
        }
      ]
    },
    {
      "cell_type": "code",
      "source": [
        "# Q3. How would you handle a case where the file doesn't exist while trying to open it for reading?\n",
        "filename = \"non_existent_file.txt\"\n",
        "\n",
        "try:\n",
        "    with open(filename, \"r\") as file:\n",
        "        print(f\"Reading from '{filename}':\")\n",
        "        for line in file:\n",
        "            print(line.strip())\n",
        "except FileNotFoundError:\n",
        "    print(f\"Error: The file '{filename}' does not exist.\")"
      ],
      "metadata": {
        "colab": {
          "base_uri": "https://localhost:8080/"
        },
        "id": "DhXKDX7efQUI",
        "outputId": "8c436de4-beb6-43cf-bb2a-f5cc9735f1d6"
      },
      "execution_count": null,
      "outputs": [
        {
          "output_type": "stream",
          "name": "stdout",
          "text": [
            "Error: The file 'non_existent_file.txt' does not exist.\n"
          ]
        }
      ]
    },
    {
      "cell_type": "code",
      "source": [
        "# Q4. Write a Python script that reads from one file and writes its content to another file.\n",
        "with open(\"source.txt\", \"w\") as src:\n",
        "    src.write(\"This is the content of the source file.\\n\")\n",
        "    src.write(\"It will be copied to another file.\")\n",
        "\n",
        "with open(\"source.txt\", \"r\") as source_file:\n",
        "    content = source_file.read()\n",
        "\n",
        "with open(\"destination.txt\", \"w\") as destination_file:\n",
        "    destination_file.write(content)\n",
        "\n",
        "print(\"Contents of 'destination.txt':\")\n",
        "with open(\"destination.txt\", \"r\") as dest:\n",
        "    for line in dest:\n",
        "        print(line.strip())"
      ],
      "metadata": {
        "colab": {
          "base_uri": "https://localhost:8080/"
        },
        "id": "1EiBnEhTfQlX",
        "outputId": "b303fba6-de32-407b-bb51-da6406e6d8bd"
      },
      "execution_count": null,
      "outputs": [
        {
          "output_type": "stream",
          "name": "stdout",
          "text": [
            "Contents of 'destination.txt':\n",
            "This is the content of the source file.\n",
            "It will be copied to another file.\n"
          ]
        }
      ]
    },
    {
      "cell_type": "code",
      "source": [
        "# Q5. How would you catch and handle division by zero error in Python?\n",
        "numerator = 10\n",
        "denominator = 0\n",
        "\n",
        "try:\n",
        "    result = numerator / denominator\n",
        "    print(\"Result:\", result)\n",
        "except ZeroDivisionError:\n",
        "    print(\"Error: Division by zero is not allowed.\")"
      ],
      "metadata": {
        "colab": {
          "base_uri": "https://localhost:8080/"
        },
        "id": "Pw3AE7TTgcUH",
        "outputId": "da807024-1371-4aaa-8aed-6950830d5070"
      },
      "execution_count": null,
      "outputs": [
        {
          "output_type": "stream",
          "name": "stdout",
          "text": [
            "Error: Division by zero is not allowed.\n"
          ]
        }
      ]
    },
    {
      "cell_type": "code",
      "source": [
        "# Q6. Write a Python program that logs an error message to a log file when a division by zero exception occurs.\n",
        "import logging\n",
        "\n",
        "logging.basicConfig(filename=\"error_log.txt\", level=logging.ERROR)\n",
        "\n",
        "try:\n",
        "    result = 10 / 0\n",
        "    print(\"Result:\", result)\n",
        "except ZeroDivisionError:\n",
        "    logging.error(\"Division by zero error occurred.\")\n"
      ],
      "metadata": {
        "colab": {
          "base_uri": "https://localhost:8080/"
        },
        "id": "KpVRJfjKgxPn",
        "outputId": "d2090a92-40b9-41c5-f384-0d907d84ae32"
      },
      "execution_count": null,
      "outputs": [
        {
          "output_type": "stream",
          "name": "stderr",
          "text": [
            "ERROR:root:Division by zero error occurred.\n"
          ]
        }
      ]
    },
    {
      "cell_type": "code",
      "source": [
        "# Q7. How do you log information at different levels (INFO, ERROR, WARNING) in Python using the logging module?\n",
        "import logging\n",
        "\n",
        "logging.basicConfig(\n",
        "    filename=\"log_levels.txt\",\n",
        "    level=logging.INFO)\n",
        "\n",
        "logging.info(\"This is an informational message.\")\n",
        "logging.warning(\"This is a warning message.\")\n",
        "logging.error(\"This is an error message.\")"
      ],
      "metadata": {
        "colab": {
          "base_uri": "https://localhost:8080/"
        },
        "id": "yVkpS0N4iCKl",
        "outputId": "cc5cd85f-2d33-4411-f990-e9e54aa3cb84"
      },
      "execution_count": null,
      "outputs": [
        {
          "output_type": "stream",
          "name": "stderr",
          "text": [
            "WARNING:root:This is a warning message.\n",
            "ERROR:root:This is an error message.\n"
          ]
        }
      ]
    },
    {
      "cell_type": "code",
      "source": [
        "# Q8. Write a program to handle a file opening error using exception handling.\n",
        "filename = \"missing_file.txt\"\n",
        "\n",
        "try:\n",
        "    with open(filename, \"r\") as file:\n",
        "        content = file.read()\n",
        "        print(f\"Contents of '{filename}':\")\n",
        "        print(content)\n",
        "except FileNotFoundError:\n",
        "    print(f\"Error: The file '{filename}' was not found.\")\n",
        "except PermissionError:\n",
        "    print(f\"Error: You do not have permission to access '{filename}'.\")\n",
        "except Exception as e:\n",
        "    print(f\"An unexpected error occurred: {e}\")"
      ],
      "metadata": {
        "colab": {
          "base_uri": "https://localhost:8080/"
        },
        "id": "RukwNpfKiJZ1",
        "outputId": "2623d10d-2824-4035-f277-23b99332295e"
      },
      "execution_count": null,
      "outputs": [
        {
          "output_type": "stream",
          "name": "stdout",
          "text": [
            "Error: The file 'missifng_file.txt' was not found.\n"
          ]
        }
      ]
    },
    {
      "cell_type": "code",
      "source": [
        "# Q9. How can you read a file line by line and store its content in a list in Python?\n",
        "filename = \"sample.txt\"\n",
        "\n",
        "try:\n",
        "    with open(filename, \"r\") as file:\n",
        "        lines = file.readlines()  # Read all lines and store them in a list\n",
        "    print(\"Contents of the file as a list of lines:\")\n",
        "    print(lines)  # Output the list\n",
        "except FileNotFoundError:\n",
        "    print(f\"Error: The file '{filename}' does not exist.\")"
      ],
      "metadata": {
        "colab": {
          "base_uri": "https://localhost:8080/"
        },
        "id": "WmPhomt3ixZA",
        "outputId": "3e1a1e0c-e636-4df4-ebdd-62e042b41758"
      },
      "execution_count": null,
      "outputs": [
        {
          "output_type": "stream",
          "name": "stdout",
          "text": [
            "Contents of the file as a list of lines:\n",
            "['First line\\n', 'Second line\\n', 'Third line']\n"
          ]
        }
      ]
    },
    {
      "cell_type": "code",
      "source": [
        "# Q10. How can you append data to an existing file in Python?\n",
        "filename = \"example.txt\"\n",
        "\n",
        "new_data = \"This is the new line that will be appended.\\n\"\n",
        "\n",
        "# For opening the file in append mode and write the new data that we want to add\n",
        "with open(filename, \"a\") as file:\n",
        "    file.write(new_data)\n",
        "\n",
        "# To read the file to confirm the content was appended or not\n",
        "with open(filename, \"r\") as file:\n",
        "    content = file.read()\n",
        "    print(\"Updated file contents:\")\n",
        "    print(content)\n"
      ],
      "metadata": {
        "colab": {
          "base_uri": "https://localhost:8080/"
        },
        "id": "z5CotYPAixjc",
        "outputId": "d924bd15-4954-4f74-a7a4-3b8d3fd6d52e"
      },
      "execution_count": null,
      "outputs": [
        {
          "output_type": "stream",
          "name": "stdout",
          "text": [
            "Updated file contents:\n",
            "Hello, world!This is the new line that will be appended.\n",
            "\n"
          ]
        }
      ]
    },
    {
      "cell_type": "code",
      "source": [
        "# Q11. Write a Python program that uses a try-except block to handle an error when attempting to access a dictionary key that doesn't exist.\n",
        "person = {\n",
        "    \"name\": \"Alice\",\n",
        "    \"age\": 30\n",
        "}\n",
        "\n",
        "try:\n",
        "    print(\"Name:\", person[\"name\"])\n",
        "    print(\"Age:\", person[\"age\"])\n",
        "    print(\"City:\", person[\"city\"])  # This will raise a KeyError as city is not in the dictionary\n",
        "except KeyError:\n",
        "    print(\"Error: The key 'city' does not exist in the dictionary.\")"
      ],
      "metadata": {
        "id": "AolJtrwejgzo",
        "colab": {
          "base_uri": "https://localhost:8080/"
        },
        "outputId": "fe7ebcbc-833d-4940-c2e1-59f3e393f84d"
      },
      "execution_count": 24,
      "outputs": [
        {
          "output_type": "stream",
          "name": "stdout",
          "text": [
            "Name: Alice\n",
            "Age: 30\n",
            "Error: The key 'city' does not exist in the dictionary.\n"
          ]
        }
      ]
    },
    {
      "cell_type": "code",
      "source": [
        "# Q12. Write a program that demonstrates using multiple except blocks to handle different types of exceptions.\n",
        "try:\n",
        "    num1 = int(input(\"Enter numerator: \"))\n",
        "    num2 = int(input(\"Enter denominator: \"))\n",
        "\n",
        "    result = num1 / num2\n",
        "    print(\"Result:\", result)\n",
        "\n",
        "    sample_dict = {\"name\": \"John\"}\n",
        "    print(\"Age:\", sample_dict[\"age\"])  # This will raise a KeyError\n",
        "\n",
        "except ZeroDivisionError:\n",
        "    print(\"Error: You can't divide by zero.\")\n",
        "\n",
        "except ValueError:\n",
        "    print(\"Error: Please enter valid integers.\")\n",
        "\n",
        "except KeyError:\n",
        "    print(\"Error: The specified key does not exist in the dictionary.\")\n",
        "\n",
        "except Exception as e:\n",
        "    print(f\"An unexpected error occurred: {e}\")"
      ],
      "metadata": {
        "colab": {
          "base_uri": "https://localhost:8080/"
        },
        "id": "xJGa3B5Hk9X4",
        "outputId": "c95ae208-3338-4832-c1a2-382bff47cf00"
      },
      "execution_count": 25,
      "outputs": [
        {
          "output_type": "stream",
          "name": "stdout",
          "text": [
            "Enter numerator: 3\n",
            "Enter denominator: 0\n",
            "Error: You can't divide by zero.\n"
          ]
        }
      ]
    },
    {
      "cell_type": "code",
      "source": [
        "# Q13. How would you check if a file exists before attempting to read it in Python?\n",
        "import os\n",
        "\n",
        "filename = \"example1.txt\"\n",
        "\n",
        "if os.path.exists(filename):\n",
        "    with open(filename, \"r\") as file:\n",
        "        content = file.read()\n",
        "        print(\"File content:\")\n",
        "        print(content)\n",
        "else:\n",
        "    print(f\"File '{filename}' does not exist.\")"
      ],
      "metadata": {
        "colab": {
          "base_uri": "https://localhost:8080/"
        },
        "id": "Y66ToJ8uk9hu",
        "outputId": "42067dbd-a13d-4bd8-c113-5ddf4b1f6423"
      },
      "execution_count": 29,
      "outputs": [
        {
          "output_type": "stream",
          "name": "stdout",
          "text": [
            "File 'example1.txt' does not exist.\n"
          ]
        }
      ]
    },
    {
      "cell_type": "code",
      "source": [
        "# Q14. Write a program that uses the logging module to log both informational and error messages.\n",
        "import logging\n",
        "\n",
        "logging.basicConfig(\n",
        "    filename=\"info_error.txt\",\n",
        "    level=logging.DEBUG)\n",
        "def divide_numbers(a, b):\n",
        "    logging.info(f\"Attempting to divide {a} by {b}\")\n",
        "    try:\n",
        "        result = a / b\n",
        "        logging.info(f\"Division successful: {a} / {b} = {result}\")\n",
        "        print(f\"Result: {result}\")\n",
        "    except ZeroDivisionError as e:\n",
        "        logging.error(f\"Error occurred: Division by zero - {e}\")\n",
        "        print(\"Error: Cannot divide by zero. Check 'log_example.log' for details.\")\n",
        "divide_numbers(10, 2)\n",
        "divide_numbers(10, 0)"
      ],
      "metadata": {
        "colab": {
          "base_uri": "https://localhost:8080/"
        },
        "id": "N27dQwack-eU",
        "outputId": "ce7e5bfa-15fa-4e72-fb60-11a1f69729e9"
      },
      "execution_count": 34,
      "outputs": [
        {
          "output_type": "stream",
          "name": "stderr",
          "text": [
            "ERROR:root:Error occurred: Division by zero - division by zero\n"
          ]
        },
        {
          "output_type": "stream",
          "name": "stdout",
          "text": [
            "Result: 5.0\n",
            "Error: Cannot divide by zero. Check 'log_example.log' for details.\n"
          ]
        }
      ]
    },
    {
      "cell_type": "code",
      "source": [
        "# Q15. Write a Python program that prints the content of a file and handles the case when the file is empty.\n",
        "filename = \"empty_file.txt\"\n",
        "\n",
        "try:\n",
        "    with open(filename, \"r\") as file:\n",
        "        content = file.read()\n",
        "        if content.strip() == \"\":\n",
        "            print(f\"The file '{filename}' is empty.\")\n",
        "        else:\n",
        "            print(f\"Contents of '{filename}':\")\n",
        "            print(content)\n",
        "except FileNotFoundError:\n",
        "    print(f\"Error: The file '{filename}' does not exist.\")"
      ],
      "metadata": {
        "colab": {
          "base_uri": "https://localhost:8080/"
        },
        "id": "eE9D5Ryzk-sl",
        "outputId": "c902a3a5-005e-4049-f35c-0c1b00a2cfce"
      },
      "execution_count": 37,
      "outputs": [
        {
          "output_type": "stream",
          "name": "stdout",
          "text": [
            "Error: The file 'empty_file.txt' does not exist.\n"
          ]
        }
      ]
    },
    {
      "cell_type": "code",
      "source": [
        "# Q16. Demonstrate how to use memory profiling to check the memory usage of a small program.\n",
        "!pip install -q memory-profiler\n",
        "from memory_profiler import memory_usage\n",
        "\n",
        "def create_large_list():\n",
        "    large_list = [x * 2 for x in range(1000000)]\n",
        "    return sum(large_list)\n",
        "\n",
        "mem_usage = memory_usage(create_large_list)\n",
        "print(\"Memory used (MB):\", max(mem_usage) - min(mem_usage))"
      ],
      "metadata": {
        "colab": {
          "base_uri": "https://localhost:8080/"
        },
        "id": "rohqRadDk-7U",
        "outputId": "1410171d-899c-4aed-f754-4b711cb9cfeb"
      },
      "execution_count": 41,
      "outputs": [
        {
          "output_type": "stream",
          "name": "stdout",
          "text": [
            "Memory used (MB): 26.69921875\n"
          ]
        }
      ]
    },
    {
      "cell_type": "code",
      "source": [
        "# Q17. Write a Python program to create and write a list of numbers to a file, one number per line.\n",
        "numbers = [1, 2, 3, 4, 5]\n",
        "\n",
        "with open(\"numbers.txt\", \"w\") as file:\n",
        "    for num in numbers:\n",
        "        file.write(str(num) + \"\\n\")\n",
        "print(f\"Successfully wrote {len(numbers)} numbers to numbers.txt.\")"
      ],
      "metadata": {
        "colab": {
          "base_uri": "https://localhost:8080/"
        },
        "id": "MEGCZvVdk_Ht",
        "outputId": "9aa49fbe-3bbf-4846-978d-72ccafa45cdc"
      },
      "execution_count": 44,
      "outputs": [
        {
          "output_type": "stream",
          "name": "stdout",
          "text": [
            "Successfully wrote 5 numbers to numbers.txt.\n"
          ]
        }
      ]
    },
    {
      "cell_type": "code",
      "source": [
        "# Q18. How would you implement a basic logging setup that logs to a file with rotation after 1MB.\n",
        "import logging\n",
        "from logging.handlers import RotatingFileHandler\n",
        "\n",
        "# making a handler\n",
        "handler = RotatingFileHandler(\"simple.log\", maxBytes=1024*1024, backupCount=2)\n",
        "\n",
        "# Setting up basic logging\n",
        "logging.basicConfig(\n",
        "    level=logging.INFO,\n",
        "    handlers=[handler],\n",
        "    format='%(asctime)s - %(levelname)s - %(message)s'\n",
        ")\n",
        "\n",
        "\n",
        "for i in range(10000):\n",
        "    logging.info(f\"This is log message number {i + 1}\")\n",
        "\n",
        "print(\"Done. Check 'simple.log' and rotated logs like 'simple.log.1'\")"
      ],
      "metadata": {
        "colab": {
          "base_uri": "https://localhost:8080/"
        },
        "id": "sUpRChPUk_Uy",
        "outputId": "e1e74d4d-8e8f-46a7-ff5d-29ddbe17c45f"
      },
      "execution_count": 46,
      "outputs": [
        {
          "output_type": "stream",
          "name": "stdout",
          "text": [
            "Done. Check 'simple.log' and rotated logs like 'simple.log.1'\n"
          ]
        }
      ]
    },
    {
      "cell_type": "code",
      "source": [
        "# Q19. Write a program that handles both IndexError and KeyError using a try-except block.\n",
        "my_list = [1, 2, 3,4]\n",
        "my_dict = {\"name\": \"Alice\", \"age\": 30}\n",
        "def handle_errors():\n",
        "    try:\n",
        "        # Trying to access an invalid index in the list\n",
        "        print(my_list[5])  # This will raise IndexError\n",
        "\n",
        "        # Trying to access a key that doesn't exist in the dictionary\n",
        "        print(my_dict[\"age\"])  # This will raise KeyError\n",
        "\n",
        "    except IndexError:\n",
        "        print(\"Error: Index out of range in the list.\")\n",
        "\n",
        "    except KeyError:\n",
        "        print(\"Error: Key not found in the dictionary.\")\n",
        "\n",
        "handle_errors()"
      ],
      "metadata": {
        "colab": {
          "base_uri": "https://localhost:8080/"
        },
        "id": "r6pIhCFuk_h6",
        "outputId": "8357cbea-0427-47a0-edd3-2098575204f0"
      },
      "execution_count": 51,
      "outputs": [
        {
          "output_type": "stream",
          "name": "stdout",
          "text": [
            "Error: Index out of range in the list.\n"
          ]
        }
      ]
    },
    {
      "cell_type": "code",
      "source": [
        "# Q20. How would you open a file and read its contents using a context manager in Python?\n",
        "with open(\"example.txt\", \"r\") as file:\n",
        "    content = file.read()\n",
        "    print(content)"
      ],
      "metadata": {
        "colab": {
          "base_uri": "https://localhost:8080/"
        },
        "id": "-mnIY1TOk_x0",
        "outputId": "e91486fe-aaf3-4e56-d6c4-ae40f2713c6b"
      },
      "execution_count": 54,
      "outputs": [
        {
          "output_type": "stream",
          "name": "stdout",
          "text": [
            "Hello, world!This is the new line that will be appended.\n",
            "\n"
          ]
        }
      ]
    },
    {
      "cell_type": "code",
      "source": [
        "# Q21. Write a Python program that reads a file and prints the number of occurrences of a specific word.\n",
        "def count_word_occurrences(filename, word):\n",
        "    try:\n",
        "        with open(filename, \"r\") as file:\n",
        "            content = file.read()\n",
        "            word_count = content.lower().count(word.lower())\n",
        "            return word_count\n",
        "    except FileNotFoundError:\n",
        "        print(f\"Error: The file '{filename}' does not exist.\")"
      ],
      "metadata": {
        "id": "9kpYplJGk__S"
      },
      "execution_count": 60,
      "outputs": []
    },
    {
      "cell_type": "code",
      "source": [
        "# Q22. How can you check if a file is empty before attempting to read its contents?\n",
        "filename = \"example.txt\"\n",
        "\n",
        "with open(filename, \"r\") as file:\n",
        "    content = file.read()\n",
        "    if not content:\n",
        "        print(f\"The file '{filename}' is empty.\")\n",
        "    else:\n",
        "        print(f\"File content:\\n{content}\")"
      ],
      "metadata": {
        "colab": {
          "base_uri": "https://localhost:8080/"
        },
        "id": "iO78Sg_mlANj",
        "outputId": "beeec92f-4d73-4519-cf08-be8a9774b0f2"
      },
      "execution_count": 72,
      "outputs": [
        {
          "output_type": "stream",
          "name": "stdout",
          "text": [
            "File content:\n",
            "Hello, world!This is the new line that will be appended.\n",
            "\n"
          ]
        }
      ]
    },
    {
      "cell_type": "code",
      "source": [
        "# Q23. Write a Python program that writes to a log file when an error occurs during file handling.\n",
        "import logging\n",
        "\n",
        "logging.basicConfig(filename=\"error_log.txt\", level=logging.ERROR)\n",
        "\n",
        "try:\n",
        "    with open(\"non_existent_file.txt\", \"r\") as file:\n",
        "        content = file.read()\n",
        "        print(content)\n",
        "except FileNotFoundError:\n",
        "    logging.error(\"File not found error occurred.\")\n",
        "\n"
      ],
      "metadata": {
        "colab": {
          "base_uri": "https://localhost:8080/"
        },
        "id": "Hu54ucMDlAXi",
        "outputId": "43d4725e-02e7-43d6-b713-cd3f6a278f5c"
      },
      "execution_count": 73,
      "outputs": [
        {
          "output_type": "stream",
          "name": "stderr",
          "text": [
            "ERROR:root:File not found error occurred.\n"
          ]
        }
      ]
    }
  ]
}